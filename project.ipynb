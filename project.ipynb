{
 "cells": [
  {
   "cell_type": "code",
   "execution_count": 96,
   "metadata": {
    "id": "zGcjZ6L_UZce"
   },
   "outputs": [],
   "source": [
    "import numpy as np\n",
    "import tensorflow as tf\n",
    "import matplotlib.pyplot as plt\n",
    "import pandas as pd\n",
    "from tensorflow.keras import layers, Model\n",
    "import keras\n",
    "from keras.regularizers import l2\n",
    "\n",
    "# For Ordinal Encoding and standardising of the input\n",
    "from sklearn.preprocessing import StandardScaler, OrdinalEncoder\n",
    "encoder = OrdinalEncoder()\n",
    "\n",
    "\n",
    "# For recording history MSE values\n",
    "from keras.callbacks import History \n",
    "history = History()"
   ]
  },
  {
   "cell_type": "code",
   "execution_count": 97,
   "metadata": {
    "colab": {
     "base_uri": "https://localhost:8080/",
     "height": 333
    },
    "id": "ODl4VAWRiO7B",
    "outputId": "91ef00d4-1088-44d0-9bd0-239edea2c3fd"
   },
   "outputs": [
    {
     "data": {
      "text/html": [
       "<div>\n",
       "<style scoped>\n",
       "    .dataframe tbody tr th:only-of-type {\n",
       "        vertical-align: middle;\n",
       "    }\n",
       "\n",
       "    .dataframe tbody tr th {\n",
       "        vertical-align: top;\n",
       "    }\n",
       "\n",
       "    .dataframe thead th {\n",
       "        text-align: right;\n",
       "    }\n",
       "</style>\n",
       "<table border=\"1\" class=\"dataframe\">\n",
       "  <thead>\n",
       "    <tr style=\"text-align: right;\">\n",
       "      <th></th>\n",
       "      <th>PIPE - 1 DIA</th>\n",
       "      <th>PIPE - 2 DIA</th>\n",
       "      <th>Service Time(Years)</th>\n",
       "      <th>FITTING_MATERIAL_TEXT</th>\n",
       "      <th>PIPE - 1 MATERIAL</th>\n",
       "      <th>PIPE - 2 MATERIAL</th>\n",
       "      <th>MF_INVOLVED_TEXT</th>\n",
       "      <th>MF_TYPE_TEXT</th>\n",
       "      <th>LEAK_LOCATION_A_TEXT</th>\n",
       "      <th>LEAK_LOCATION_B_TEXT</th>\n",
       "      <th>LEAK_LOCATION_C_TEXT</th>\n",
       "      <th>CAUSE OF LEAK</th>\n",
       "      <th>LEAK_OCCURRED_TEXT</th>\n",
       "    </tr>\n",
       "  </thead>\n",
       "  <tbody>\n",
       "    <tr>\n",
       "      <th>0</th>\n",
       "      <td>0.75</td>\n",
       "      <td>1.0</td>\n",
       "      <td>52</td>\n",
       "      <td>BRASS</td>\n",
       "      <td>COPPER</td>\n",
       "      <td>CAST/WROUGHT IRON</td>\n",
       "      <td>NUT FOLLOWER</td>\n",
       "      <td>COUPLING</td>\n",
       "      <td>BELOWGROUND</td>\n",
       "      <td>OUTSIDE</td>\n",
       "      <td>SERVICE-TO-SERVICE</td>\n",
       "      <td>EQUIPMENT</td>\n",
       "      <td>LEAKED THROUGH SEAL</td>\n",
       "    </tr>\n",
       "    <tr>\n",
       "      <th>1</th>\n",
       "      <td>2.00</td>\n",
       "      <td>4.0</td>\n",
       "      <td>29</td>\n",
       "      <td>PLASTIC</td>\n",
       "      <td>PLASTIC</td>\n",
       "      <td>PLASTIC</td>\n",
       "      <td>BOLTED</td>\n",
       "      <td>TAPPING TEE</td>\n",
       "      <td>BELOWGROUND</td>\n",
       "      <td>OUTSIDE</td>\n",
       "      <td>MAIN-TO-SERVICE</td>\n",
       "      <td>INCORRECT OPERATION</td>\n",
       "      <td>LEAKED THROUGH SEAL</td>\n",
       "    </tr>\n",
       "    <tr>\n",
       "      <th>2</th>\n",
       "      <td>4.00</td>\n",
       "      <td>1.0</td>\n",
       "      <td>23</td>\n",
       "      <td>PLASTIC</td>\n",
       "      <td>PLASTIC</td>\n",
       "      <td>PLASTIC</td>\n",
       "      <td>NUT FOLLOWER</td>\n",
       "      <td>COUPLING</td>\n",
       "      <td>BELOWGROUND</td>\n",
       "      <td>OUTSIDE</td>\n",
       "      <td>SERVICE-TO-SERVICE</td>\n",
       "      <td>EQUIPMENT</td>\n",
       "      <td>LEAKED THROUGH SEAL</td>\n",
       "    </tr>\n",
       "    <tr>\n",
       "      <th>3</th>\n",
       "      <td>0.75</td>\n",
       "      <td>1.5</td>\n",
       "      <td>51</td>\n",
       "      <td>STEEL</td>\n",
       "      <td>COPPER</td>\n",
       "      <td>COPPER</td>\n",
       "      <td>NUT FOLLOWER</td>\n",
       "      <td>COUPLING</td>\n",
       "      <td>BELOWGROUND</td>\n",
       "      <td>OUTSIDE</td>\n",
       "      <td>SERVICE-TO-SERVICE</td>\n",
       "      <td>EQUIPMENT</td>\n",
       "      <td>LEAKED THROUGH SEAL</td>\n",
       "    </tr>\n",
       "    <tr>\n",
       "      <th>4</th>\n",
       "      <td>1.50</td>\n",
       "      <td>3.0</td>\n",
       "      <td>37</td>\n",
       "      <td>STEEL</td>\n",
       "      <td>STEEL</td>\n",
       "      <td>PLASTIC</td>\n",
       "      <td>NUT FOLLOWER</td>\n",
       "      <td>COUPLING</td>\n",
       "      <td>BELOWGROUND</td>\n",
       "      <td>OUTSIDE</td>\n",
       "      <td>MAIN-TO-MAIN</td>\n",
       "      <td>EQUIPMENT</td>\n",
       "      <td>LEAKED THROUGH SEAL</td>\n",
       "    </tr>\n",
       "  </tbody>\n",
       "</table>\n",
       "</div>"
      ],
      "text/plain": [
       "   PIPE - 1 DIA  PIPE - 2 DIA  ...        CAUSE OF LEAK   LEAK_OCCURRED_TEXT\n",
       "0          0.75           1.0  ...            EQUIPMENT  LEAKED THROUGH SEAL\n",
       "1          2.00           4.0  ...  INCORRECT OPERATION  LEAKED THROUGH SEAL\n",
       "2          4.00           1.0  ...            EQUIPMENT  LEAKED THROUGH SEAL\n",
       "3          0.75           1.5  ...            EQUIPMENT  LEAKED THROUGH SEAL\n",
       "4          1.50           3.0  ...            EQUIPMENT  LEAKED THROUGH SEAL\n",
       "\n",
       "[5 rows x 13 columns]"
      ]
     },
     "execution_count": 97,
     "metadata": {
      "tags": []
     },
     "output_type": "execute_result"
    }
   ],
   "source": [
    "# Total dataset imported\n",
    "dataset_total = pd.read_csv(\"ME504 ProcessedFinalData.csv\", usecols=[\"Service Time(Years)\", \"MF_INVOLVED_TEXT\", \"LEAK_LOCATION_A_TEXT\", \"LEAK_LOCATION_B_TEXT\", \"LEAK_LOCATION_C_TEXT\", \"FITTING_MATERIAL_TEXT\", \"PIPE - 1 MATERIAL\",\t\"PIPE - 2 MATERIAL\",\t\"CAUSE OF LEAK\", \"LEAK_OCCURRED_TEXT\", \"PIPE - 1 DIA\",\t\"PIPE - 2 DIA\", \"MF_TYPE_TEXT\" ])\n",
    "dataset_total.head()"
   ]
  },
  {
   "cell_type": "code",
   "execution_count": 98,
   "metadata": {
    "colab": {
     "base_uri": "https://localhost:8080/",
     "height": 195
    },
    "id": "iKMRi7Deij4U",
    "outputId": "aa5cfd45-97f7-4fd9-b4c9-19a7d16ac9d0"
   },
   "outputs": [
    {
     "data": {
      "text/html": [
       "<div>\n",
       "<style scoped>\n",
       "    .dataframe tbody tr th:only-of-type {\n",
       "        vertical-align: middle;\n",
       "    }\n",
       "\n",
       "    .dataframe tbody tr th {\n",
       "        vertical-align: top;\n",
       "    }\n",
       "\n",
       "    .dataframe thead th {\n",
       "        text-align: right;\n",
       "    }\n",
       "</style>\n",
       "<table border=\"1\" class=\"dataframe\">\n",
       "  <thead>\n",
       "    <tr style=\"text-align: right;\">\n",
       "      <th></th>\n",
       "      <th>Service Time(Years)</th>\n",
       "    </tr>\n",
       "  </thead>\n",
       "  <tbody>\n",
       "    <tr>\n",
       "      <th>0</th>\n",
       "      <td>52</td>\n",
       "    </tr>\n",
       "    <tr>\n",
       "      <th>1</th>\n",
       "      <td>29</td>\n",
       "    </tr>\n",
       "    <tr>\n",
       "      <th>2</th>\n",
       "      <td>23</td>\n",
       "    </tr>\n",
       "    <tr>\n",
       "      <th>3</th>\n",
       "      <td>51</td>\n",
       "    </tr>\n",
       "    <tr>\n",
       "      <th>4</th>\n",
       "      <td>37</td>\n",
       "    </tr>\n",
       "  </tbody>\n",
       "</table>\n",
       "</div>"
      ],
      "text/plain": [
       "   Service Time(Years)\n",
       "0                   52\n",
       "1                   29\n",
       "2                   23\n",
       "3                   51\n",
       "4                   37"
      ]
     },
     "execution_count": 98,
     "metadata": {
      "tags": []
     },
     "output_type": "execute_result"
    }
   ],
   "source": [
    "# Separating Output Feature\n",
    "Y_num = dataset_total[[\"Service Time(Years)\"]].copy()\n",
    "Y_num.head()"
   ]
  },
  {
   "cell_type": "code",
   "execution_count": 99,
   "metadata": {
    "colab": {
     "base_uri": "https://localhost:8080/",
     "height": 195
    },
    "id": "m-ixXlhP1FaD",
    "outputId": "f11f5d8e-4351-4b5b-da64-7a37545c3977"
   },
   "outputs": [
    {
     "data": {
      "text/html": [
       "<div>\n",
       "<style scoped>\n",
       "    .dataframe tbody tr th:only-of-type {\n",
       "        vertical-align: middle;\n",
       "    }\n",
       "\n",
       "    .dataframe tbody tr th {\n",
       "        vertical-align: top;\n",
       "    }\n",
       "\n",
       "    .dataframe thead th {\n",
       "        text-align: right;\n",
       "    }\n",
       "</style>\n",
       "<table border=\"1\" class=\"dataframe\">\n",
       "  <thead>\n",
       "    <tr style=\"text-align: right;\">\n",
       "      <th></th>\n",
       "      <th>MF_INVOLVED_TEXT</th>\n",
       "      <th>MF_TYPE_TEXT</th>\n",
       "      <th>PIPE - 1 DIA</th>\n",
       "      <th>PIPE - 2 DIA</th>\n",
       "      <th>PIPE - 1 MATERIAL</th>\n",
       "      <th>PIPE - 2 MATERIAL</th>\n",
       "      <th>FITTING_MATERIAL_TEXT</th>\n",
       "    </tr>\n",
       "  </thead>\n",
       "  <tbody>\n",
       "    <tr>\n",
       "      <th>0</th>\n",
       "      <td>NUT FOLLOWER</td>\n",
       "      <td>COUPLING</td>\n",
       "      <td>0.75</td>\n",
       "      <td>1.0</td>\n",
       "      <td>COPPER</td>\n",
       "      <td>CAST/WROUGHT IRON</td>\n",
       "      <td>BRASS</td>\n",
       "    </tr>\n",
       "    <tr>\n",
       "      <th>1</th>\n",
       "      <td>BOLTED</td>\n",
       "      <td>TAPPING TEE</td>\n",
       "      <td>2.00</td>\n",
       "      <td>4.0</td>\n",
       "      <td>PLASTIC</td>\n",
       "      <td>PLASTIC</td>\n",
       "      <td>PLASTIC</td>\n",
       "    </tr>\n",
       "    <tr>\n",
       "      <th>2</th>\n",
       "      <td>NUT FOLLOWER</td>\n",
       "      <td>COUPLING</td>\n",
       "      <td>4.00</td>\n",
       "      <td>1.0</td>\n",
       "      <td>PLASTIC</td>\n",
       "      <td>PLASTIC</td>\n",
       "      <td>PLASTIC</td>\n",
       "    </tr>\n",
       "    <tr>\n",
       "      <th>3</th>\n",
       "      <td>NUT FOLLOWER</td>\n",
       "      <td>COUPLING</td>\n",
       "      <td>0.75</td>\n",
       "      <td>1.5</td>\n",
       "      <td>COPPER</td>\n",
       "      <td>COPPER</td>\n",
       "      <td>STEEL</td>\n",
       "    </tr>\n",
       "    <tr>\n",
       "      <th>4</th>\n",
       "      <td>NUT FOLLOWER</td>\n",
       "      <td>COUPLING</td>\n",
       "      <td>1.50</td>\n",
       "      <td>3.0</td>\n",
       "      <td>STEEL</td>\n",
       "      <td>PLASTIC</td>\n",
       "      <td>STEEL</td>\n",
       "    </tr>\n",
       "  </tbody>\n",
       "</table>\n",
       "</div>"
      ],
      "text/plain": [
       "  MF_INVOLVED_TEXT MF_TYPE_TEXT  ...  PIPE - 2 MATERIAL  FITTING_MATERIAL_TEXT\n",
       "0     NUT FOLLOWER     COUPLING  ...  CAST/WROUGHT IRON                  BRASS\n",
       "1           BOLTED  TAPPING TEE  ...            PLASTIC                PLASTIC\n",
       "2     NUT FOLLOWER     COUPLING  ...            PLASTIC                PLASTIC\n",
       "3     NUT FOLLOWER     COUPLING  ...             COPPER                  STEEL\n",
       "4     NUT FOLLOWER     COUPLING  ...            PLASTIC                  STEEL\n",
       "\n",
       "[5 rows x 7 columns]"
      ]
     },
     "execution_count": 99,
     "metadata": {
      "tags": []
     },
     "output_type": "execute_result"
    }
   ],
   "source": [
    "# Separating Input Variables\n",
    "X = dataset_total[[\"MF_INVOLVED_TEXT\",  \"MF_TYPE_TEXT\", \"PIPE - 1 DIA\", \"PIPE - 2 DIA\",  \"PIPE - 1 MATERIAL\",\t\"PIPE - 2 MATERIAL\", \"FITTING_MATERIAL_TEXT\"]].copy() #\"Altitude (m)\", \n",
    "X.head()"
   ]
  },
  {
   "cell_type": "code",
   "execution_count": 100,
   "metadata": {
    "id": "J68uhvipx3gC"
   },
   "outputs": [],
   "source": [
    "# Numerical Component of Input Variables\n",
    "X_num  = X[[\"PIPE - 1 DIA\"\t,\"PIPE - 2 DIA\"]]\n",
    "X_num.head()\n",
    "\n",
    "\n",
    "# Standardizing Numerical Input Features\n",
    "ss = StandardScaler()\n",
    "X_num_std = ss.fit_transform(X_num)"
   ]
  },
  {
   "cell_type": "code",
   "execution_count": 101,
   "metadata": {
    "id": "agkAgKNzxn5J"
   },
   "outputs": [],
   "source": [
    "# Categorrical Component of Input Variables\n",
    "X_cat = X[[\"MF_INVOLVED_TEXT\", \"MF_TYPE_TEXT\", \"PIPE - 1 MATERIAL\"\t,\"PIPE - 2 MATERIAL\",\t\"FITTING_MATERIAL_TEXT\"]].copy()\n",
    "X_cat.head()\n",
    "\n",
    "# Ordinal Encoding (Integers from 1 to n alloted to each Category) For Categorical Inputs (For Embedding Layer)\n",
    "X_cat_enc = encoder.fit_transform(X_cat)"
   ]
  },
  {
   "cell_type": "markdown",
   "metadata": {
    "id": "nwngaCfTCf-e"
   },
   "source": []
  },
  {
   "cell_type": "code",
   "execution_count": 102,
   "metadata": {
    "colab": {
     "base_uri": "https://localhost:8080/"
    },
    "id": "IclWF1NGZkG0",
    "outputId": "5ad03fa4-4058-4485-f47c-ae3c1585dce5"
   },
   "outputs": [
    {
     "data": {
      "text/plain": [
       "MF_INVOLVED_TEXT                MF_TYPE_TEXT         PIPE - 1 MATERIAL  PIPE - 2 MATERIAL  FITTING_MATERIAL_TEXT        \n",
       "NUT FOLLOWER                    COUPLING             STEEL              STEEL              STEEL                            859\n",
       "BOLTED                          COUPLING             STEEL              STEEL              STEEL                            346\n",
       "STAB                            COUPLING             PLASTIC            PLASTIC            PLASTIC                          343\n",
       "NUT FOLLOWER                    COUPLING             STEEL              PLASTIC            STEEL                            333\n",
       "                                SERVICE OR MAIN TEE  STEEL              STEEL              STEEL                            299\n",
       "                                                                                                                           ... \n",
       "OTHER COMPRESSION TYPE FITTING  ADAPTER              COPPER             PLASTIC            COMBINATION PLASTIC AND STEEL      1\n",
       "                                                     PLASTIC            PLASTIC            PLASTIC                            1\n",
       "                                                     STEEL              COPPER             BRASS                              1\n",
       "                                                                        STEEL              COMBINATION PLASTIC AND STEEL      1\n",
       "BOLTED                          ADAPTER              PLASTIC            PLASTIC            STEEL                              1\n",
       "Length: 645, dtype: int64"
      ]
     },
     "execution_count": 102,
     "metadata": {
      "tags": []
     },
     "output_type": "execute_result"
    }
   ],
   "source": [
    "# For Counting no. of Different Categories to determine Embedding Layer Size\n",
    "X_cat.value_counts()"
   ]
  },
  {
   "cell_type": "code",
   "execution_count": 103,
   "metadata": {
    "id": "6dyNA2oJGd7c"
   },
   "outputs": [],
   "source": [
    "# DEFINING THE MODEL\n",
    "\n",
    "\n",
    "# Input Layers (4 for Categorical, 4 for numerical Input)\n",
    "num_inputs = tf.keras.layers.Input((X_num.shape[1],  ), name = \"num_input\")\n",
    "\n",
    "cat_inputs_a = tf.keras.layers.Input((1,  ), name = \"cat_input_a\")\n",
    "cat_inputs_b = tf.keras.layers.Input((1,  ), name = \"cat_input_b\")\n",
    "cat_inputs_c = tf.keras.layers.Input((1,  ), name = \"cat_input_c\")\n",
    "cat_inputs_d = tf.keras.layers.Input((1,  ), name = \"cat_input_d\")\n",
    "cat_inputs_e = tf.keras.layers.Input((1,  ), name = \"cat_input_e\")\n",
    "\n",
    "\n",
    "# Embedding Layers Correcspoding to Each Feature  (Size for layers, Output features is Hard Coded As per Post-Processing Data)\n",
    "cat_proc_a = tf.keras.layers.Embedding(7, 6, input_length = X_cat_enc.shape[1])(cat_inputs_a)\n",
    "cat_proc_b = tf.keras.layers.Embedding(9, 8, input_length = X_cat_enc.shape[1])(cat_inputs_b)\n",
    "cat_proc_c = tf.keras.layers.Embedding(9, 5, input_length = X_cat_enc.shape[1])(cat_inputs_c)\n",
    "cat_proc_d = tf.keras.layers.Embedding(12, 11, input_length = X_cat_enc.shape[1])(cat_inputs_d)\n",
    "cat_proc_e = tf.keras.layers.Embedding(12, 11, input_length = X_cat_enc.shape[1])(cat_inputs_e)\n",
    "\n",
    "# Flattening the Output Tf Vector for Each layer for concatenation at later stage \n",
    "cat_proc_a = tf.keras.layers.Flatten()(cat_proc_a)\n",
    "cat_proc_b = tf.keras.layers.Flatten()(cat_proc_b)\n",
    "cat_proc_c = tf.keras.layers.Flatten()(cat_proc_c)\n",
    "cat_proc_d = tf.keras.layers.Flatten()(cat_proc_d)\n",
    "cat_proc_e = tf.keras.layers.Flatten()(cat_proc_e)\n",
    "\n",
    "\n",
    "# Conctenating Embedding Layer Outputs with Numerical Inputs\n",
    "x = tf.keras.layers.Concatenate( axis = -1)([num_inputs, cat_proc_a, cat_proc_b, cat_proc_c, cat_proc_d, cat_proc_e])\n",
    "\n",
    "\n",
    "# SEQUENCTIAL MODEL POST COMPILING DIFFERNET INPUTS\n",
    "\n",
    "x = tf.keras.layers.Dense(10, activation = \"relu\")(x)\n",
    "x = tf.keras.layers.Dropout(0.2)(x)           # DropOut Layer to Minimize Overfitting\n",
    "x = tf.keras.layers.BatchNormalization()(x)  # Batch Normalization For Further Regularizing\n",
    "\n",
    "x = tf.keras.layers.Dense(8, kernel_regularizer=l2(0.01) ,activation = 'relu')(x)   # Dense Layer with Weight Decay Enabled\n",
    "x = tf.keras.layers.BatchNormalization()(x)\n",
    "\n",
    "x = tf.keras.layers.Dense(9, activation = 'relu')(x)\n",
    "x = tf.keras.layers.Dropout(0.2)(x)      # DropOut Layer\n",
    "x = tf.keras.layers.BatchNormalization()(x)\n",
    "\n",
    "x = tf.keras.layers.Dense(5, activation = 'relu')(x)\n",
    "x = tf.keras.layers.BatchNormalization()(x)\n",
    "\n",
    "x = tf.keras.layers.Dense(7, kernel_regularizer=l2(0.05),activation = 'relu')(x)   # Weight Decay Enabled\n",
    "x = tf.keras.layers.BatchNormalization()(x)\n",
    "\n",
    "output = tf.keras.layers.Dense(Y_num.shape[1], activation = 'relu', name = 'output')(x)"
   ]
  },
  {
   "cell_type": "code",
   "execution_count": 109,
   "metadata": {
    "colab": {
     "base_uri": "https://localhost:8080/"
    },
    "id": "bLgkAwqnGuKx",
    "outputId": "736aa973-cc67-45bf-cab8-f697ff8003dc"
   },
   "outputs": [
    {
     "name": "stdout",
     "output_type": "stream",
     "text": [
      "Model: \"model_11\"\n",
      "__________________________________________________________________________________________________\n",
      "Layer (type)                    Output Shape         Param #     Connected to                     \n",
      "==================================================================================================\n",
      "cat_input_a (InputLayer)        [(None, 1)]          0                                            \n",
      "__________________________________________________________________________________________________\n",
      "cat_input_b (InputLayer)        [(None, 1)]          0                                            \n",
      "__________________________________________________________________________________________________\n",
      "cat_input_c (InputLayer)        [(None, 1)]          0                                            \n",
      "__________________________________________________________________________________________________\n",
      "cat_input_d (InputLayer)        [(None, 1)]          0                                            \n",
      "__________________________________________________________________________________________________\n",
      "cat_input_e (InputLayer)        [(None, 1)]          0                                            \n",
      "__________________________________________________________________________________________________\n",
      "embedding_30 (Embedding)        (None, 1, 6)         42          cat_input_a[0][0]                \n",
      "__________________________________________________________________________________________________\n",
      "embedding_31 (Embedding)        (None, 1, 8)         72          cat_input_b[0][0]                \n",
      "__________________________________________________________________________________________________\n",
      "embedding_32 (Embedding)        (None, 1, 5)         45          cat_input_c[0][0]                \n",
      "__________________________________________________________________________________________________\n",
      "embedding_33 (Embedding)        (None, 1, 11)        132         cat_input_d[0][0]                \n",
      "__________________________________________________________________________________________________\n",
      "embedding_34 (Embedding)        (None, 1, 11)        132         cat_input_e[0][0]                \n",
      "__________________________________________________________________________________________________\n",
      "num_input (InputLayer)          [(None, 2)]          0                                            \n",
      "__________________________________________________________________________________________________\n",
      "flatten_30 (Flatten)            (None, 6)            0           embedding_30[0][0]               \n",
      "__________________________________________________________________________________________________\n",
      "flatten_31 (Flatten)            (None, 8)            0           embedding_31[0][0]               \n",
      "__________________________________________________________________________________________________\n",
      "flatten_32 (Flatten)            (None, 5)            0           embedding_32[0][0]               \n",
      "__________________________________________________________________________________________________\n",
      "flatten_33 (Flatten)            (None, 11)           0           embedding_33[0][0]               \n",
      "__________________________________________________________________________________________________\n",
      "flatten_34 (Flatten)            (None, 11)           0           embedding_34[0][0]               \n",
      "__________________________________________________________________________________________________\n",
      "concatenate_6 (Concatenate)     (None, 43)           0           num_input[0][0]                  \n",
      "                                                                 flatten_30[0][0]                 \n",
      "                                                                 flatten_31[0][0]                 \n",
      "                                                                 flatten_32[0][0]                 \n",
      "                                                                 flatten_33[0][0]                 \n",
      "                                                                 flatten_34[0][0]                 \n",
      "__________________________________________________________________________________________________\n",
      "dense_28 (Dense)                (None, 10)           440         concatenate_6[0][0]              \n",
      "__________________________________________________________________________________________________\n",
      "dropout_10 (Dropout)            (None, 10)           0           dense_28[0][0]                   \n",
      "__________________________________________________________________________________________________\n",
      "batch_normalization_28 (BatchNo (None, 10)           40          dropout_10[0][0]                 \n",
      "__________________________________________________________________________________________________\n",
      "dense_29 (Dense)                (None, 8)            88          batch_normalization_28[0][0]     \n",
      "__________________________________________________________________________________________________\n",
      "batch_normalization_29 (BatchNo (None, 8)            32          dense_29[0][0]                   \n",
      "__________________________________________________________________________________________________\n",
      "dense_30 (Dense)                (None, 9)            81          batch_normalization_29[0][0]     \n",
      "__________________________________________________________________________________________________\n",
      "dropout_11 (Dropout)            (None, 9)            0           dense_30[0][0]                   \n",
      "__________________________________________________________________________________________________\n",
      "batch_normalization_30 (BatchNo (None, 9)            36          dropout_11[0][0]                 \n",
      "__________________________________________________________________________________________________\n",
      "dense_31 (Dense)                (None, 5)            50          batch_normalization_30[0][0]     \n",
      "__________________________________________________________________________________________________\n",
      "batch_normalization_31 (BatchNo (None, 5)            20          dense_31[0][0]                   \n",
      "__________________________________________________________________________________________________\n",
      "dense_32 (Dense)                (None, 7)            42          batch_normalization_31[0][0]     \n",
      "__________________________________________________________________________________________________\n",
      "batch_normalization_32 (BatchNo (None, 7)            28          dense_32[0][0]                   \n",
      "__________________________________________________________________________________________________\n",
      "output (Dense)                  (None, 1)            8           batch_normalization_32[0][0]     \n",
      "==================================================================================================\n",
      "Total params: 1,288\n",
      "Trainable params: 1,210\n",
      "Non-trainable params: 78\n",
      "__________________________________________________________________________________________________\n"
     ]
    }
   ],
   "source": [
    "# Compiling the Model and Resetting History\n",
    "modelN = tf.keras.models.Model(\n",
    "    inputs = [num_inputs, cat_inputs_a, cat_inputs_b, cat_inputs_c, cat_inputs_d, cat_inputs_e], \n",
    "    outputs = output)\n",
    "modelN.compile(optimizer = keras.optimizers.Adam(lr = 0.001),\n",
    "               loss = \"mse\",\n",
    "               metrics = [\"mse\"])\n",
    "\n",
    "# Resetting History\n",
    "modelN.summary()\n",
    "history = History()"
   ]
  },
  {
   "cell_type": "code",
   "execution_count": 110,
   "metadata": {
    "colab": {
     "base_uri": "https://localhost:8080/"
    },
    "id": "Z6qfK4YNG7IU",
    "outputId": "7c04962e-b1bd-4545-ca0f-bc2b28555958"
   },
   "outputs": [
    {
     "name": "stdout",
     "output_type": "stream",
     "text": [
      "Epoch 1/40\n",
      "961/961 [==============================] - 5s 3ms/step - loss: 1366.8240 - mse: 1366.4639 - val_loss: 317.5715 - val_mse: 317.2560\n",
      "Epoch 2/40\n",
      "961/961 [==============================] - 3s 3ms/step - loss: 296.1017 - mse: 295.7918 - val_loss: 80.6838 - val_mse: 80.3891\n",
      "Epoch 3/40\n",
      "961/961 [==============================] - 3s 3ms/step - loss: 149.7845 - mse: 149.4927 - val_loss: 56.6980 - val_mse: 56.4220\n",
      "Epoch 4/40\n",
      "961/961 [==============================] - 3s 3ms/step - loss: 114.9490 - mse: 114.6790 - val_loss: 39.3804 - val_mse: 39.1204\n",
      "Epoch 5/40\n",
      "961/961 [==============================] - 3s 3ms/step - loss: 110.2311 - mse: 109.9718 - val_loss: 42.6142 - val_mse: 42.3545\n",
      "Epoch 6/40\n",
      "961/961 [==============================] - 3s 3ms/step - loss: 108.6239 - mse: 108.3652 - val_loss: 30.7702 - val_mse: 30.5142\n",
      "Epoch 7/40\n",
      "961/961 [==============================] - 3s 3ms/step - loss: 90.3649 - mse: 90.1116 - val_loss: 29.8293 - val_mse: 29.5783\n",
      "Epoch 8/40\n",
      "961/961 [==============================] - 3s 3ms/step - loss: 86.7211 - mse: 86.4708 - val_loss: 34.2757 - val_mse: 34.0283\n",
      "Epoch 9/40\n",
      "961/961 [==============================] - 3s 3ms/step - loss: 86.5690 - mse: 86.3226 - val_loss: 35.5726 - val_mse: 35.3276\n",
      "Epoch 10/40\n",
      "961/961 [==============================] - 3s 3ms/step - loss: 80.5828 - mse: 80.3368 - val_loss: 33.0488 - val_mse: 32.8028\n",
      "Epoch 11/40\n",
      "961/961 [==============================] - 3s 3ms/step - loss: 76.5710 - mse: 76.3265 - val_loss: 48.9748 - val_mse: 48.7321\n",
      "Epoch 12/40\n",
      "961/961 [==============================] - 3s 3ms/step - loss: 76.4463 - mse: 76.2047 - val_loss: 29.2137 - val_mse: 28.9763\n",
      "Epoch 13/40\n",
      "961/961 [==============================] - 3s 3ms/step - loss: 75.5141 - mse: 75.2790 - val_loss: 42.0077 - val_mse: 41.7753\n",
      "Epoch 14/40\n",
      "961/961 [==============================] - 3s 3ms/step - loss: 75.9017 - mse: 75.6702 - val_loss: 29.2532 - val_mse: 29.0249\n",
      "Epoch 15/40\n",
      "961/961 [==============================] - 3s 3ms/step - loss: 75.6188 - mse: 75.3932 - val_loss: 21.7265 - val_mse: 21.5077\n",
      "Epoch 16/40\n",
      "961/961 [==============================] - 3s 3ms/step - loss: 78.5481 - mse: 78.3315 - val_loss: 33.8233 - val_mse: 33.6149\n",
      "Epoch 17/40\n",
      "961/961 [==============================] - 3s 3ms/step - loss: 79.5438 - mse: 79.3375 - val_loss: 28.7614 - val_mse: 28.5620\n",
      "Epoch 18/40\n",
      "961/961 [==============================] - 3s 3ms/step - loss: 78.7647 - mse: 78.5676 - val_loss: 41.8498 - val_mse: 41.6577\n",
      "Epoch 19/40\n",
      "961/961 [==============================] - 3s 3ms/step - loss: 77.1486 - mse: 76.9584 - val_loss: 21.5072 - val_mse: 21.3210\n",
      "Epoch 20/40\n",
      "961/961 [==============================] - 3s 3ms/step - loss: 79.4267 - mse: 79.2412 - val_loss: 29.5146 - val_mse: 29.3325\n",
      "Epoch 21/40\n",
      "961/961 [==============================] - 3s 3ms/step - loss: 76.5040 - mse: 76.3230 - val_loss: 20.4668 - val_mse: 20.2890\n",
      "Epoch 22/40\n",
      "961/961 [==============================] - 3s 3ms/step - loss: 74.5538 - mse: 74.3769 - val_loss: 27.5716 - val_mse: 27.3947\n",
      "Epoch 23/40\n",
      "961/961 [==============================] - 3s 3ms/step - loss: 70.4077 - mse: 70.2306 - val_loss: 38.5004 - val_mse: 38.3243\n",
      "Epoch 24/40\n",
      "961/961 [==============================] - 3s 3ms/step - loss: 75.2036 - mse: 75.0280 - val_loss: 24.3819 - val_mse: 24.2051\n",
      "Epoch 25/40\n",
      "961/961 [==============================] - 3s 3ms/step - loss: 74.3541 - mse: 74.1762 - val_loss: 21.3788 - val_mse: 21.1989\n",
      "Epoch 26/40\n",
      "961/961 [==============================] - 3s 3ms/step - loss: 71.0295 - mse: 70.8494 - val_loss: 55.8520 - val_mse: 55.6739\n",
      "Epoch 27/40\n",
      "961/961 [==============================] - 3s 3ms/step - loss: 80.3157 - mse: 80.1367 - val_loss: 32.3423 - val_mse: 32.1624\n",
      "Epoch 28/40\n",
      "961/961 [==============================] - 3s 3ms/step - loss: 81.6067 - mse: 81.4265 - val_loss: 32.9850 - val_mse: 32.8034\n",
      "Epoch 29/40\n",
      "961/961 [==============================] - 3s 3ms/step - loss: 83.4228 - mse: 83.2409 - val_loss: 35.5557 - val_mse: 35.3724\n",
      "Epoch 30/40\n",
      "961/961 [==============================] - 3s 3ms/step - loss: 76.1350 - mse: 75.9515 - val_loss: 37.0935 - val_mse: 36.9106\n",
      "Epoch 31/40\n",
      "961/961 [==============================] - 3s 3ms/step - loss: 79.3528 - mse: 79.1700 - val_loss: 38.0593 - val_mse: 37.8761\n",
      "Epoch 32/40\n",
      "961/961 [==============================] - 3s 3ms/step - loss: 74.9873 - mse: 74.8030 - val_loss: 55.1103 - val_mse: 54.9267\n",
      "Epoch 33/40\n",
      "961/961 [==============================] - 3s 3ms/step - loss: 76.5723 - mse: 76.3873 - val_loss: 32.3653 - val_mse: 32.1784\n",
      "Epoch 34/40\n",
      "961/961 [==============================] - 3s 3ms/step - loss: 84.7657 - mse: 84.5776 - val_loss: 47.2088 - val_mse: 47.0194\n",
      "Epoch 35/40\n",
      "961/961 [==============================] - 3s 3ms/step - loss: 76.8739 - mse: 76.6847 - val_loss: 32.0897 - val_mse: 31.9010\n",
      "Epoch 36/40\n",
      "961/961 [==============================] - 3s 3ms/step - loss: 74.8909 - mse: 74.7014 - val_loss: 55.7672 - val_mse: 55.5749\n",
      "Epoch 37/40\n",
      "961/961 [==============================] - 3s 3ms/step - loss: 80.8638 - mse: 80.6713 - val_loss: 46.5857 - val_mse: 46.3943\n",
      "Epoch 38/40\n",
      "961/961 [==============================] - 3s 3ms/step - loss: 73.4421 - mse: 73.2504 - val_loss: 36.1141 - val_mse: 35.9216\n",
      "Epoch 39/40\n",
      "961/961 [==============================] - 3s 3ms/step - loss: 77.1023 - mse: 76.9089 - val_loss: 50.4874 - val_mse: 50.2925\n",
      "Epoch 40/40\n",
      "961/961 [==============================] - 3s 3ms/step - loss: 75.9540 - mse: 75.7598 - val_loss: 49.6757 - val_mse: 49.4815\n"
     ]
    },
    {
     "data": {
      "text/plain": [
       "<tensorflow.python.keras.callbacks.History at 0x7f3c90e336d8>"
      ]
     },
     "execution_count": 110,
     "metadata": {
      "tags": []
     },
     "output_type": "execute_result"
    }
   ],
   "source": [
    "# Fitting the model with spliced Categorical Inputs(Separated into 4) and Numerical Inputs\n",
    "modelN.fit([ X_num_std, X_cat_enc[:, 0].reshape(-1, 1), X_cat_enc[:, 1].reshape(-1, 1), X_cat_enc[:, 2].reshape(-1, 1), X_cat_enc[:, 3].reshape(-1, 1), X_cat_enc[:, 4].reshape(-1, 1)],\n",
    "           Y_num, batch_size= 10, epochs = 40, \n",
    "           validation_split=0.2,\n",
    "           callbacks=[history]\n",
    "           )"
   ]
  },
  {
   "cell_type": "code",
   "execution_count": 111,
   "metadata": {
    "colab": {
     "base_uri": "https://localhost:8080/",
     "height": 553
    },
    "id": "xHT1_z1taxjx",
    "outputId": "367596fd-780e-48b5-a226-c0f4be4062d2"
   },
   "outputs": [
    {
     "data": {
      "image/png": "[encoded data removed]",
      "text/plain": [
       "<Figure size 832x572 with 1 Axes>"
      ]
     },
     "metadata": {
      "tags": []
     },
     "output_type": "display_data"
    }
   ],
   "source": [
    "# MSE History Plot (Training Vs. Validation)\n",
    "plt.style.use('bmh')\n",
    "plt.plot(history.history['loss'], label =  \"Training Loss\")\n",
    "plt.plot(history.history['val_loss'], label =  \"Validation Loss\")\n",
    "plt.legend(loc='upper right', frameon = False)\n",
    "plt.title(\"Variation in Loss With Iteration\")\n",
    "plt.show()"
   ]
  },
  {
   "cell_type": "code",
   "execution_count": 115,
   "metadata": {
    "id": "RjamjrS1OVlE"
   },
   "outputs": [],
   "source": [
    "Y_pred = modelN.predict([ X_num_std, X_cat_enc[:, 0].reshape(-1, 1), X_cat_enc[:, 1].reshape(-1, 1), X_cat_enc[:, 2].reshape(-1, 1), X_cat_enc[:, 3].reshape(-1, 1), X_cat_enc[:, 4].reshape(-1, 1)])"
   ]
  },
  {
   "cell_type": "markdown",
   "metadata": {
    "id": "Z0eZDSgAoUIi"
   },
   "source": [
    "##----------------------------------------------------------------------END--------------------------------------------------------------------------------\n",
    "#### (Predicted Values printed Ahead)"
   ]
  },
  {
   "cell_type": "code",
   "execution_count": null,
   "metadata": {
    "id": "sZ1h1HnyOn3P"
   },
   "outputs": [],
   "source": [
    "print(Y_pred[:, 0])"
   ]
  },
  {
   "cell_type": "code",
   "execution_count": null,
   "metadata": {
    "id": "NmwVzQoIPMBU"
   },
   "outputs": [],
   "source": [
    "Y_num.values[:, 0]"
   ]
  }
 ],
 "metadata": {
  "colab": {
   "collapsed_sections": [],
   "name": "ME504DLPS Project.ipynb",
   "provenance": []
  },
  "kernelspec": {
   "display_name": "Python 3",
   "language": "python",
   "name": "python3"
  },
  "language_info": {
   "codemirror_mode": {
    "name": "ipython",
    "version": 3
   },
   "file_extension": ".py",
   "mimetype": "text/x-python",
   "name": "python",
   "nbconvert_exporter": "python",
   "pygments_lexer": "ipython3",
   "version": "3.7.9"
  }
 },
 "nbformat": 4,
 "nbformat_minor": 1
}
